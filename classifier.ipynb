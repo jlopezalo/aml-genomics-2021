{
 "metadata": {
  "language_info": {
   "codemirror_mode": {
    "name": "ipython",
    "version": 3
   },
   "file_extension": ".py",
   "mimetype": "text/x-python",
   "name": "python",
   "nbconvert_exporter": "python",
   "pygments_lexer": "ipython3",
   "version": 3
  },
  "orig_nbformat": 4
 },
 "nbformat": 4,
 "nbformat_minor": 2,
 "cells": [
  {
   "source": [
    "# Peter Moss Acute Myeloid & Lymphoblastic Leukemia AI Research Project\n",
    "## Acute Myeloid Leukemia Genomics 2021\n",
    "\n",
    "![Acute Myeloid Leukemia Genomics 2021](assets/images/aml-genomics-2021.jpg)"
   ],
   "cell_type": "markdown",
   "metadata": {}
  },
  {
   "source": [
    "# Table Of Contents\n",
    "\n",
    "- [Introduction](#introduction)\n",
    "- [DISCLAIMER](#disclaimer)\n",
    "- [Software](#software)\n",
    "    - [List Software](#list-software)\n",
    "    - [Import Software](#import-software)\n",
    "- [Data](#data)\n",
    "    - [Gather Data](#gather-data)\n",
    "    - [Data Pre-processing](#data-pre-processing)\n",
    "    - [Data Split](#data-split)\n",
    "        - [Training Set](#train-set)\n",
    "        - [Validation Set](#validation-set)\n",
    "        - [Test Set](#test-set)\n",
    "    - [Data Visualization](#data-visualization)\n",
    "- [Network](#network)\n",
    "    - [Choosen Network](#choosen-network)\n",
    "    - [Explain Network Choice](#explain-network-choice)\n",
    "    - [Build Network](#build-network)\n",
    "- [Model](#model)\n",
    "    - [Train Model](#train-model)\n",
    "    - [Evaluate Model](#evaluate=model)\n",
    "    - [Model Metrics](#model-metrics)\n",
    "        - [Accuracy](#accuracy)\n",
    "        - [Loss](#loss)\n",
    "        - [Precision](#precision)\n",
    "        - [Recall](#recall)\n",
    "        - [AUC](#auc)\n",
    "        - [True Positives](#true-positives)\n",
    "        - [False Positives](#false-positives)\n",
    "        - [True Negatives](#true-positives)\n",
    "        - [False Positives](#false-positives)\n",
    "        - [Misclassifcation](#misclassification)\n",
    "        - [Sensitivity](#sensitivity)\n",
    "        - [Specificity](#specificity)\n",
    "    - [Test Model](#test=model)\n",
    "- [Conclusion](#conclusion)\n",
    "- [Contributing](#contributing)\n",
    "  - [Contributors](#contributors)\n",
    "- [Versioning](#versioning)\n",
    "- [License](#license)\n",
    "- [Bugs/Issues](#bugs-issues)"
   ],
   "cell_type": "markdown",
   "metadata": {}
  },
  {
   "source": [
    "# Introduction\n",
    "\n",
    "An Acute Myeloid Leukemia diagnostics project based on the research outlined in [Scalable Prediction of Acute Myeloid Leukemia Using High-Dimensional Machine Learning and Blood Transcriptomics](https://www.cell.com/iscience/pdf/S2589-0042(19)30525-5.pdf) by Stefanie WarnatHerresthal, Konstantinos Perrakis, Bernd Taschler, Torsten Haferlach, Sach Mukherjee & Joachim L. Schultze.  \n",
    "\n",
    "<font color='red'>DEVELOPER TO EXPLAIN/UPDATE THE PROJECT</font>"
   ],
   "cell_type": "markdown",
   "metadata": {}
  },
  {
   "source": [
    "# DISCLAIMER\n",
    "\n",
    "Theis project should be used for research purposes only. The purpose of the project is to show the potential of Artificial Intelligence for medical support systems such as diagnostics systems.\n",
    "\n",
    "Although the classifier is accurate and shows good results both on paper and in real world testing, it is not meant to be an alternative to professional medical diagnosis.\n",
    "\n",
    "Salvatore Raieli is a bioinformatician researcher and PhD in Immunology, but does not work in medical diagnosis.\n",
    "\n",
    "Please use this system responsibly."
   ],
   "cell_type": "markdown",
   "metadata": {}
  },
  {
   "source": [
    "# Software\n",
    "\n",
    "To use this project you will need to install the following software:\n",
    "\n",
    "## Software List  \n",
    "\n",
    "<font color='red'>DEVELOPER TO LIST/EXPLAIN SOFTWARE</font>\n",
    "\n",
    "## Import Modules\n",
    "\n",
    "<font color='red'>DEVELOPER TO IMPORT MODULES</font>"
   ],
   "cell_type": "markdown",
   "metadata": {}
  },
  {
   "cell_type": "code",
   "execution_count": null,
   "metadata": {},
   "outputs": [],
   "source": []
  },
  {
   "source": [
    "# Data\n",
    "\n",
    "## Gather Data  \n",
    "\n",
    "<font color='red'>DEVELOPER TO INTRODUCE CHOSEN DATA SET</font>"
   ],
   "cell_type": "markdown",
   "metadata": {}
  },
  {
   "source": [
    "## Data Preprocessing  \n",
    "\n",
    "<font color='red'>DEVELOPER TO IMPLEMENT DATA PRE-PROCESSING CODE</font>"
   ],
   "cell_type": "markdown",
   "metadata": {}
  },
  {
   "cell_type": "code",
   "execution_count": null,
   "metadata": {},
   "outputs": [],
   "source": []
  },
  {
   "source": [
    "## Data Split  \n",
    "\n",
    "<font color='red'>DEVELOPER TO EXPLAIN DATA SPLIT: Train/Evaluate/Test</font>"
   ],
   "cell_type": "markdown",
   "metadata": {}
  },
  {
   "source": [
    "## Data Visualization  \n",
    "\n",
    "<font color='red'>DEVELOPER TO IMPLEMENT DATA VISUALIZATION CODE</font>"
   ],
   "cell_type": "markdown",
   "metadata": {}
  },
  {
   "cell_type": "code",
   "execution_count": null,
   "metadata": {},
   "outputs": [],
   "source": []
  },
  {
   "source": [
    "# Network\n",
    "## Chosen Network  \n",
    "\n",
    "<font color='red'>DEVELOPER TO INTRODUCE CHOSEN NETWORK</font>\n",
    "\n",
    "## Network Choice Explained  \n",
    "\n",
    "<font color='red'>DEVELOPER TO EXPLAIN NETWORK CHOICE</font>\n",
    "## Build Network  \n",
    "\n",
    "<font color='red'>DEVELOPER TO IMPLEMENT NETWORK</font>"
   ],
   "cell_type": "markdown",
   "metadata": {}
  },
  {
   "cell_type": "code",
   "execution_count": null,
   "metadata": {},
   "outputs": [],
   "source": []
  },
  {
   "source": [
    "# Model\n",
    "## Train Model  \n",
    "\n",
    "<font color='red'>DEVELOPER TO IMPLEMENT TRAINING CODE</font>\n"
   ],
   "cell_type": "markdown",
   "metadata": {}
  },
  {
   "cell_type": "code",
   "execution_count": null,
   "metadata": {},
   "outputs": [],
   "source": []
  },
  {
   "source": [
    "## Evaluate Model  \n",
    "\n",
    "<font color='red'>DEVELOPER TO IMPLEMENT EVALUATION CODE</font>"
   ],
   "cell_type": "markdown",
   "metadata": {}
  },
  {
   "cell_type": "code",
   "execution_count": null,
   "metadata": {},
   "outputs": [],
   "source": []
  },
  {
   "source": [
    "## Model Metrics  \n",
    "\n",
    "<font color='red'>DEVELOPER TO PROVIDE EVALUATION METRICS WITH PLOTS</font>\n",
    "\n",
    "### Accuracy\n",
    "### Loss\n",
    "### Precision\n",
    "### Recall\n",
    "### AUC/ROC\n",
    "### True Positives\n",
    "### False Positives\n",
    "### True Negatives\n",
    "### False Negatives\n",
    "### Misclassifcation\n",
    "### Sensitivity\n",
    "### Specificity"
   ],
   "cell_type": "markdown",
   "metadata": {}
  },
  {
   "cell_type": "code",
   "execution_count": null,
   "metadata": {},
   "outputs": [],
   "source": []
  },
  {
   "source": [
    "# Conclusion  \n",
    "\n",
    "<font color='red'>DEVELOPER TO PROVIDE PROJECT CONCLUSION</font>\n"
   ],
   "cell_type": "markdown",
   "metadata": {}
  },
  {
   "source": [
    "\n",
    "\n",
    "# Contributing\n",
    "\n",
    "Asociación de Investigacion en Inteligencia Artificial Para la Leucemia Peter Moss encourages and welcomes code contributions, bug fixes and enhancements from the Github.\n",
    "\n",
    "Please read the [CONTRIBUTING](CONTRIBUTING.md \"CONTRIBUTING\") document for a full guide to forking our repositories and submitting your pull requests. You will also find information about our code of conduct on this page.\n",
    "\n",
    "## Contributors\n",
    "\n",
    "- [Salvatore Raieli](https://www.leukemiaairesearch.com/association/volunteers/salvatore-raieli  \"Salvatore Raieli\") - [Asociacion De Investigation En Inteligencia Artificial Para La Leucemia Peter Moss](https://www.leukemiaresearchassociation.ai \"Asociacion De Investigation En Inteligencia Artificial Para La Leucemia Peter Moss\") Research & Development (Bioinformatics & Immunology), Bologna, Italy\n",
    "\n",
    "&nbsp;\n",
    "\n",
    "# Versioning\n",
    "\n",
    "We use SemVer for versioning.\n",
    "\n",
    "&nbsp;\n",
    "\n",
    "# License\n",
    "\n",
    "This project is licensed under the **MIT License** - see the [LICENSE](LICENSE.md \"LICENSE\") file for details.\n",
    "\n",
    "&nbsp;\n",
    "\n",
    "# Bugs/Issues\n",
    "\n",
    "We use the [repo issues](issues \"repo issues\") to track bugs and general requests related to using this project. See [CONTRIBUTING](CONTRIBUTING.md \"CONTRIBUTING\") for more info on how to submit bugs, feature requests and proposals."
   ],
   "cell_type": "markdown",
   "metadata": {}
  }
 ]
}